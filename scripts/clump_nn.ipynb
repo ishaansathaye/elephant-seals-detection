{
 "cells": [
  {
   "cell_type": "code",
   "execution_count": null,
   "metadata": {},
   "outputs": [],
   "source": [
    "import torch\n",
    "import torch.nn as nn\n",
    "from torch.utils.data import Dataset, DataLoader\n",
    "from torchvision import models, transforms\n",
    "from PIL import Image\n",
    "from sklearn.model_selection import train_test_split\n",
    "import os\n",
    "import pandas as pd\n",
    "import numpy as np "
   ]
  },
  {
   "cell_type": "code",
   "execution_count": null,
   "metadata": {},
   "outputs": [],
   "source": [
    "# read in labels \n",
    "labels = pd.read_csv('clumps_count.csv')"
   ]
  },
  {
   "cell_type": "code",
   "execution_count": null,
   "metadata": {},
   "outputs": [],
   "source": [
    "labels.dropna(inplace=True) "
   ]
  },
  {
   "cell_type": "code",
   "execution_count": null,
   "metadata": {},
   "outputs": [],
   "source": [
    "labels.head()"
   ]
  },
  {
   "cell_type": "code",
   "execution_count": null,
   "metadata": {},
   "outputs": [],
   "source": [
    "len(labels)"
   ]
  },
  {
   "cell_type": "code",
   "execution_count": null,
   "metadata": {},
   "outputs": [],
   "source": [
    "# split \n",
    "train_labels, test_labels = train_test_split(labels, test_size=0.2, random_state=452)\n",
    "train_labels, val_labels = train_test_split(labels, test_size=1/8, random_state=452)"
   ]
  },
  {
   "cell_type": "code",
   "execution_count": null,
   "metadata": {},
   "outputs": [],
   "source": [
    "train_imgs = train_labels['clump'].values\n",
    "val_imgs = val_labels['clump'].values \n",
    "test_imgs = test_labels['individual'].values "
   ]
  },
  {
   "cell_type": "code",
   "execution_count": null,
   "metadata": {},
   "outputs": [],
   "source": [
    "# preprocessing \n",
    "class SealDataset(Dataset): \n",
    "    def __init__(self, img_dir, img_ids, labels, transform_pipeline):\n",
    "        self.img_dir = img_dir\n",
    "        self.img_ids = img_ids \n",
    "        self.labels = labels \n",
    "        self.transform_pipeline = transform_pipeline\n",
    "\n",
    "    def __len__(self):\n",
    "        return len(self.labels_df)\n",
    "    \n",
    "    def __getitem__(self, idx):\n",
    "        row = self.labels.iloc[idx]\n",
    "\n",
    "        img_path = os.path.join(self.img_dir, f'{self.img_ids[idx]}.tif')\n",
    "        image = self.transform(Image.open(img_path).convert('RGB'))\n",
    "        \n",
    "        label = torch.tensor([\n",
    "            row['Number of Adult Male Seals'], \n",
    "            row['Number of Adult Female Seals'],\n",
    "            row['Number of Baby Seals']\n",
    "        ], dtype=torch.float32)\n",
    "\n",
    "        return image, label"
   ]
  },
  {
   "cell_type": "code",
   "execution_count": null,
   "metadata": {},
   "outputs": [],
   "source": [
    "# transformation pipeline \n",
    "transform_pl = transforms.Compose([\n",
    "    transforms.Resize((224, 224)),\n",
    "    transforms.ToTensor(),\n",
    "    transforms.Normalize([0.485, 0.456, 0.406],\n",
    "                         [0.229, 0.224, 0.225])\n",
    "])"
   ]
  },
  {
   "cell_type": "code",
   "execution_count": null,
   "metadata": {},
   "outputs": [],
   "source": [
    "# loading to class\n",
    "img_dir = 'clumps' # img dir of clump imgs  \n",
    "\n",
    "train_set = SealDataset(img_dir, train_imgs, train_labels, transform_pl)\n",
    "val_set = SealDataset(img_dir, val_imgs, val_labels, transform_pl)\n",
    "test_set = SealDataset(img_dir, test_imgs, test_labels, transform_pl)\n",
    "\n",
    "train_loader = DataLoader(train_set, batch_size=32)\n",
    "val_loader = DataLoader(val_set, batch_size=32)\n",
    "test_loader = DataLoader(test_set, batch_size=32)"
   ]
  },
  {
   "cell_type": "code",
   "execution_count": null,
   "metadata": {},
   "outputs": [],
   "source": [
    "# model \n",
    "class SealCountRegressor(nn.Module):\n",
    "    def __init__(self):\n",
    "        super(SealCountRegressor, self).__init__()\n",
    "        self.backbone = models.resnet50(pretrained=True)\n",
    "        self.backbone.fc = nn.Identity()\n",
    "        self.regressor = nn.Sequential(\n",
    "            nn.Linear(2048, 512),\n",
    "            nn.ReLU(),\n",
    "            nn.Linear(512, 128),\n",
    "            nn.ReLU(),\n",
    "            nn.Linear(128, 3),\n",
    "            nn.Softplus()\n",
    "        )\n",
    "\n",
    "    def forward(self, x):\n",
    "        features = self.backbone(x)\n",
    "        return self.regressor(features)"
   ]
  },
  {
   "cell_type": "code",
   "execution_count": null,
   "metadata": {},
   "outputs": [],
   "source": [
    "device = torch.device('cuda' if torch.cuda.is_available() else 'cpu')\n",
    "device"
   ]
  },
  {
   "cell_type": "code",
   "execution_count": null,
   "metadata": {},
   "outputs": [],
   "source": [
    "model = SealCountRegressor()\n",
    "model = model.to(device) "
   ]
  },
  {
   "cell_type": "code",
   "execution_count": null,
   "metadata": {},
   "outputs": [],
   "source": [
    "criterion = nn.PoissonNLLLoss(log_input=False) # poisson cuz count data \n",
    "optimizer = torch.optim.Adam(model.parameters(), lr=1e-4)"
   ]
  },
  {
   "cell_type": "code",
   "execution_count": null,
   "metadata": {},
   "outputs": [],
   "source": [
    "# model training \n",
    "for epoch in range(10):\n",
    "    model.train()\n",
    "    running_loss = 0\n",
    "\n",
    "    for images, labels in train_loader:\n",
    "        images, labels = images.to(device), labels.to(device) \n",
    "\n",
    "        optimizer.zero_grad()\n",
    "        outputs = model(images)\n",
    "        loss = criterion(outputs, labels)\n",
    "\n",
    "        loss.backward()\n",
    "        optimizer.step()\n",
    "\n",
    "        running_loss += loss.item()*images.size(0)\n",
    "\n",
    "    print(f\"Epoch {epoch+1} - Loss: {running_loss / len(train_loader.dataset):.4f}\")\n",
    "\n",
    "    model.eval()\n",
    "    val_loss = 0 \n",
    "    with torch.no_grad():\n",
    "        for images, labels in val_loader:\n",
    "            images, labels = images.to(device), labels.to(device) \n",
    "\n",
    "            outputs = model(images)\n",
    "            loss = criterion(outputs, labels)\n",
    "\n",
    "            val_loss += loss.item()\n",
    "        \n",
    "        print(f'Val Loss: {val_loss / len(val_loader):.4f}')"
   ]
  },
  {
   "cell_type": "code",
   "execution_count": null,
   "metadata": {},
   "outputs": [],
   "source": [
    "# eval\n",
    "model.eval()\n",
    "predicted_males = []\n",
    "predicted_females = []\n",
    "predicted_cubs = []\n",
    "\n",
    "actual_males = []\n",
    "actual_females = []\n",
    "actual_cubs = [] \n",
    "\n",
    "with torch.no_grad():\n",
    "    for images, labels in test_loader:\n",
    "        images = images.to(device)\n",
    "\n",
    "        outputs = model(images).cpu().squeeze(0)\n",
    "        labels = labels.squeeze(0)\n",
    "\n",
    "        predicted_males.append(outputs[0].item())\n",
    "        predicted_females.append(outputs[1].item())\n",
    "        predicted_cubs.append(outputs[2].item())\n",
    "\n",
    "        actual_males.append(labels[0].item())\n",
    "        actual_females.append(labels[1].item())\n",
    "        actual_cubs.append(labels[2].item())\n",
    "\n",
    "predicted_males = np.array(predicted_males)\n",
    "predicted_females = np.array(predicted_females)\n",
    "predicted_cubs = np.array(predicted_cubs)\n",
    "actual_males = np.array(actual_males)\n",
    "actual_females = np.array(actual_females)\n",
    "actual_cubs = np.array(actual_cubs)\n",
    "\n",
    "mae_male = np.mean(np.abs(predicted_males - actual_males))\n",
    "mae_female = np.mean(np.abs(predicted_females - actual_females))\n",
    "mae_cubs = np.mean(np.abs(predicted_cubs - actual_cubs))\n",
    "\n",
    "print(f\"MAE - Adult Males:   {mae_male:.2f}\")\n",
    "print(f\"MAE - Adult Females: {mae_female:.2f}\")\n",
    "print(f\"MAE - Cubs:          {mae_cubs:.2f}\")"
   ]
  }
 ],
 "metadata": {
  "language_info": {
   "name": "python"
  }
 },
 "nbformat": 4,
 "nbformat_minor": 2
}
