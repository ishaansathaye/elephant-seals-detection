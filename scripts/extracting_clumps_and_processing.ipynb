{
 "cells": [
  {
   "cell_type": "code",
   "execution_count": null,
   "metadata": {},
   "outputs": [],
   "source": [
    "from roboflow import Roboflow\n",
    "from PIL import Image\n",
    "import os \n",
    "import json \n",
    "import numpy as np\n",
    "import pandas as pd"
   ]
  },
  {
   "cell_type": "code",
   "execution_count": null,
   "metadata": {},
   "outputs": [],
   "source": [
    "# object detection api documentation: https://docs.roboflow.com/deploy/hosted-api/custom-models/object-detection\n",
    "\n",
    "api_key = \"132cxQxyrOVmPD63wJrV\" # api keys are individual, change to your own\n",
    "model_endpoint = \"\" # model endpoint (after deployment)\n",
    "version = 0 # version number\n",
    "\n",
    "rf = Roboflow(api_key=api_key)\n",
    "project = rf.workspace().project(\"MODEL_ENDPOINT\")\n",
    "model = project.version(version).model"
   ]
  },
  {
   "cell_type": "code",
   "execution_count": null,
   "metadata": {},
   "outputs": [],
   "source": [
    "image_folder_path = \"\" # Your Image Folder Path Here\n",
    "seal_images = [os.path.join(image_folder_path, file) for file in os.listdir(image_folder_path)]\n",
    "\n",
    "Image.open(seal_images[0]) # for verification"
   ]
  },
  {
   "cell_type": "code",
   "execution_count": null,
   "metadata": {},
   "outputs": [],
   "source": [
    "# adjust for model tendencies \n",
    "seal_conf = 20\n",
    "seal_overlap = 30\n",
    "clump_conf = 20\n",
    "clump_overlap = 30\n",
    "\n",
    "# extracting clumps \n",
    "clump_imgs = []\n",
    "num_seals = [] # number of individual seals \n",
    "\n",
    "for img in seal_images:\n",
    "    image = Image.open(img)\n",
    "\n",
    "    seals = json.load(model.predict(img, confidence=seal_conf, overlap=seal_overlap, classes='seals').json())['predictions']\n",
    "    num_seals.append(len(seals))\n",
    "\n",
    "    clumps = json.loads(model.predict(img, confidence=clump_conf, overlap=clump_overlap, classes='clump').json())['predictions']\n",
    "\n",
    "    # getting individual seals\n",
    "    seal_pos = [] \n",
    "    for seal in seals:\n",
    "        x1_seal = seal['x'] - seal['width'] / 2\n",
    "        x2_seal = seal['x'] + seal['width'] / 2\n",
    "        y1_seal = seal['y'] - seal['height'] / 2\n",
    "        y2_seal = seal['y'] + seal['height'] / 2\n",
    "\n",
    "        seal_pos.append((x1_seal, y1_seal, x2_seal, y2_seal))\n",
    "    \n",
    "    # getting clumps \n",
    "    for clump in clumps:\n",
    "        x1_clump = clump['x'] - clump['width'] / 2\n",
    "        x2_clump = clump['x'] + clump['width'] / 2\n",
    "        y1_clump = clump['y'] - clump['height'] / 2\n",
    "        y2_clump = clump['y'] + clump['height'] / 2\n",
    "\n",
    "        top_left_clump = (x1_clump, y1_clump)\n",
    "        bottom_right_clump = (x2_clump, y2_clump)\n",
    "\n",
    "        for pos in seal_pos:\n",
    "            if (max(x1_clump, pos[0]) <= min(x2_clump, pos[2])) & (max(y1_clump, pos[1]) <= min(y2_clump, pos[3])):\n",
    "                seal_pos.remove(pos) \n",
    "        num_seals.append(len(seal_pos))\n",
    "\n",
    "        subimage = image.crop((*top_left_clump, *bottom_right_clump))\n",
    "\n",
    "        clump_imgs.append(subimage)"
   ]
  },
  {
   "cell_type": "code",
   "execution_count": null,
   "metadata": {},
   "outputs": [],
   "source": [
    "# Extracting Length, Width and RGB metrics \n",
    "\n",
    "widths = []\n",
    "heights = []\n",
    "avg_r = []\n",
    "sd_r = []\n",
    "avg_g = []\n",
    "sd_g = []\n",
    "avg_b = []\n",
    "sd_b = [] \n",
    "\n",
    "for clump in clump_imgs:\n",
    "    \n",
    "    width, height = clump.size\n",
    "\n",
    "    widths.append(width)\n",
    "    heights.append(heights)\n",
    "\n",
    "    img_array = np.array(clump)\n",
    "\n",
    "    avg_r.append(np.mean(img_array[1, :, :]))\n",
    "    sd_r.append(np.sd(img_array[1, :, :]))\n",
    "    avg_g.append(np.mean(img_array[:, 1, :]))\n",
    "    sd_g.append(np.sd(img_array[:, 1, :]))\n",
    "    avg_b.append(np.mean(img_array[:, :, 1]))\n",
    "    sd_b.append(np.sd(img_array[:, :, 1]))\n",
    "\n",
    "holistics = pd.DataFrame({'widths': widths, \n",
    "                          'heights': heights,\n",
    "                          'avg_r': avg_r, \n",
    "                          'sd_r': sd_r, \n",
    "                          'avg_g': avg_g,\n",
    "                          'sd_g': sd_g,\n",
    "                          'avg_b': avg_b,\n",
    "                          'sd_b': sd_b\n",
    "                          })"
   ]
  },
  {
   "cell_type": "code",
   "execution_count": null,
   "metadata": {},
   "outputs": [],
   "source": [
    "# writing holistics \n",
    "\n",
    "holistics.to_csv('holistics.csv') # change to filepath "
   ]
  },
  {
   "cell_type": "code",
   "execution_count": null,
   "metadata": {},
   "outputs": [],
   "source": [
    "# saving clumps as images in a new folder  \n",
    "\n",
    "output_directory = \"\" # insert folder to save clumps \n",
    "\n",
    "num_imgs = len(clumps) # This could be a lot of images, so alter this object to save only a couple at a time if needed. \n",
    "\n",
    "for idx, img in enumerate(clumps[:num_imgs]):\n",
    "    img_path = os.path.join(output_directory, f\"clump_{idx+1}.png\")\n",
    "    img.save(img_path)"
   ]
  }
 ],
 "metadata": {
  "kernelspec": {
   "display_name": "Python 3",
   "language": "python",
   "name": "python3"
  },
  "language_info": {
   "codemirror_mode": {
    "name": "ipython",
    "version": 3
   },
   "file_extension": ".py",
   "mimetype": "text/x-python",
   "name": "python",
   "nbconvert_exporter": "python",
   "pygments_lexer": "ipython3",
   "version": "3.10.4"
  }
 },
 "nbformat": 4,
 "nbformat_minor": 2
}
